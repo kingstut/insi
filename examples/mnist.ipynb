{
 "cells": [
  {
   "cell_type": "code",
   "execution_count": 1,
   "metadata": {},
   "outputs": [
    {
     "name": "stderr",
     "output_type": "stream",
     "text": [
      "/Users/stutiraizada/Library/Python/3.8/lib/python/site-packages/tqdm/auto.py:22: TqdmWarning: IProgress not found. Please update jupyter and ipywidgets. See https://ipywidgets.readthedocs.io/en/stable/user_install.html\n",
      "  from .autonotebook import tqdm as notebook_tqdm\n"
     ]
    }
   ],
   "source": [
    "from insi import Probe, Probes, Cortex \n",
    "import torch \n",
    "import torch.nn as nn \n",
    "import torch.nn.functional as F \n",
    "from torchvision import datasets, transforms"
   ]
  },
  {
   "cell_type": "code",
   "execution_count": 2,
   "metadata": {},
   "outputs": [],
   "source": [
    "class MLP(nn.Module):\n",
    "    def __init__(self):\n",
    "        super().__init__()\n",
    "        self.l1 = nn.Linear(784, 100)\n",
    "        self.l2 = nn.Linear(100, 10)\n",
    "    \n",
    "    def forward(self, x):\n",
    "        x = self.l1(x)\n",
    "        x = F.relu(x)\n",
    "        x = self.l2(x)\n",
    "        return x \n",
    "    \n",
    "# Initialize your neural network model and objective function\n",
    "model = MLP()\n",
    "model.load_state_dict(torch.load(\"saved/mlp_model.pth\"))\n",
    "\n",
    "def objective(pred):\n",
    "    return F.cross_entropy(pred, torch.tensor(9))\n",
    "\n",
    "#set input to mnist images \n",
    "data =  datasets.MNIST('../data', train=True, download=True,                    transform=transforms.Compose([\n",
    "                       transforms.ToTensor()\n",
    "                   ]))\n",
    "input = []\n",
    "for x,y in data:\n",
    "    xcat = x.view(x.shape[0], -1)[0]\n",
    "    input.append(xcat)"
   ]
  },
  {
   "cell_type": "code",
   "execution_count": 48,
   "metadata": {},
   "outputs": [],
   "source": [
    "# Create probes\n",
    "num_probes = 784\n",
    "probes =  {i: Probe() for i in range(num_probes)}\n",
    "\n",
    "# Create a Probes collection\n",
    "probes_collection = Probes(probes)\n",
    "\n",
    "# Initialize Cortex instance\n",
    "cortex = Cortex(probes_collection, model, objective)"
   ]
  },
  {
   "cell_type": "code",
   "execution_count": null,
   "metadata": {},
   "outputs": [],
   "source": [
    "# Tune the neural network using probes\n",
    "cortex.tune(epochs=1, lr=0.1, input=input)"
   ]
  },
  {
   "cell_type": "code",
   "execution_count": 31,
   "metadata": {},
   "outputs": [],
   "source": [
    "test_data =  datasets.MNIST('../data', train=False, download=True,\n",
    "                   transform=transforms.Compose([\n",
    "                       transforms.ToTensor(),\n",
    "                   ]))\n",
    "\n",
    "test_loader = torch.utils.data.DataLoader(\n",
    "    test_data,\n",
    "    batch_size=1, shuffle=True,)\n",
    "\n",
    "def get_acc(model):\n",
    "    model.eval()\n",
    "    test_loss = 0\n",
    "    correct = 0\n",
    "    for Xb, Yb in test_loader:\n",
    "        Yb = torch.ones_like(Yb) * 9 \n",
    "        xcat = Xb.view(Xb.shape[0], -1) # concatenate the vectors\n",
    "        xcat += probes_collection.get_values()\n",
    "        output = model(xcat)        \n",
    "        pred = output.data.max(1, keepdim=True)[1] # get the index of the max log-probability\n",
    "        correct += pred.eq(Yb.data.view_as(pred)).long().sum()\n",
    "\n",
    "    test_loss /= len(test_loader.dataset)\n",
    "    return 100.0 * correct / len(test_loader.dataset)\n"
   ]
  },
  {
   "cell_type": "code",
   "execution_count": 32,
   "metadata": {},
   "outputs": [
    {
     "data": {
      "text/plain": [
       "tensor(99.0500)"
      ]
     },
     "execution_count": 32,
     "metadata": {},
     "output_type": "execute_result"
    }
   ],
   "source": [
    "get_acc(model)"
   ]
  }
 ],
 "metadata": {
  "kernelspec": {
   "display_name": "Python 3",
   "language": "python",
   "name": "python3"
  },
  "language_info": {
   "codemirror_mode": {
    "name": "ipython",
    "version": 3
   },
   "file_extension": ".py",
   "mimetype": "text/x-python",
   "name": "python",
   "nbconvert_exporter": "python",
   "pygments_lexer": "ipython3",
   "version": "3.8.9"
  },
  "orig_nbformat": 4
 },
 "nbformat": 4,
 "nbformat_minor": 2
}
