{
 "cells": [
  {
   "cell_type": "code",
   "execution_count": 88,
   "metadata": {},
   "outputs": [],
   "source": [
    "from insi import Probe, Probes, Cortex \n",
    "import torch \n",
    "import torch.nn as nn \n",
    "import torch.nn.functional as F \n",
    "from torchvision import datasets, transforms\n",
    "from dataclasses import dataclass\n",
    "from nanogpt import GPT\n",
    "import pickle"
   ]
  },
  {
   "cell_type": "code",
   "execution_count": 89,
   "metadata": {},
   "outputs": [
    {
     "name": "stdout",
     "output_type": "stream",
     "text": [
      "number of parameters: 0.21M\n"
     ]
    }
   ],
   "source": [
    "@dataclass\n",
    "class GPTConfig:\n",
    "    block_size: int = 64\n",
    "    vocab_size: int = 65\n",
    "    n_layer: int = 1\n",
    "    n_head: int = 4\n",
    "    n_embd: int = 128\n",
    "    bias: bool = False\n",
    "    \n",
    "gptconf = GPTConfig()\n",
    "\n",
    "# Initialize your neural network model and objective function\n",
    "model = GPT(gptconf)\n",
    "model.load_state_dict(torch.load('saved/3000e.pth'))\n",
    "\n",
    "with open(\"../data/shakespeare_char/meta.pkl\", 'rb') as f:\n",
    "    meta = pickle.load(f)\n",
    "stoi, itos = meta['stoi'], meta['itos']\n",
    "encode = lambda s: [stoi[c] for c in s]\n",
    "decode = lambda l: ''.join([itos[i] for i in l])\n",
    "\n",
    "def gen(model):\n",
    "    model.eval()\n",
    "    start = '\\n'\n",
    "    x = (torch.tensor(encode(start), dtype=torch.long)[None, ...])\n",
    "    y, logits = model.generate(x, max_new_tokens=11, temperature=0.8, top_k=200)\n",
    "    return y, logits\n",
    "\n",
    "def objective(pred):\n",
    "    logits = pred[0]\n",
    "    print(\"logits:\", logits.shape)\n",
    "    return F.cross_entropy(logits.view(65), torch.tensor(encode(\"Q\")[0]))\n",
    "\n",
    "# set iputs to random strings \n",
    "input = [torch.randint(gptconf.vocab_size, (gptconf.block_size,)) for _ in range(100)]"
   ]
  },
  {
   "cell_type": "code",
   "execution_count": 90,
   "metadata": {},
   "outputs": [],
   "source": [
    "# Create probes\n",
    "num_probes = 64\n",
    "probes =  {i: Probe(discrete=False) for i in range(num_probes)}\n",
    "\n",
    "# Create a Probes collection\n",
    "probes_collection = Probes(probes)\n",
    "\n",
    "# Initialize Cortex instance\n",
    "cortex = Cortex(probes_collection, model, objective)"
   ]
  },
  {
   "cell_type": "code",
   "execution_count": 91,
   "metadata": {},
   "outputs": [
    {
     "name": "stdout",
     "output_type": "stream",
     "text": [
      "logits: torch.Size([1, 1, 65])\n",
      "0 tensor(4) torch.Size([64]) tensor(5) 65\n",
      "1 tensor(56) torch.Size([64]) tensor(57) 65\n",
      "2 tensor(54) torch.Size([64]) tensor(55) 65\n",
      "3 tensor(26) torch.Size([64]) tensor(27) 65\n",
      "4 tensor(2) torch.Size([64]) tensor(3) 65\n",
      "5 tensor(31) torch.Size([64]) tensor(32) 65\n",
      "6 tensor(21) torch.Size([64]) tensor(22) 65\n",
      "7 tensor(16) torch.Size([64]) tensor(17) 65\n",
      "8 tensor(11) torch.Size([64]) tensor(12) 65\n",
      "9 tensor(25) torch.Size([64]) tensor(26) 65\n",
      "10 tensor(32) torch.Size([64]) tensor(33) 65\n",
      "11 tensor(6) torch.Size([64]) tensor(7) 65\n",
      "12 tensor(29) torch.Size([64]) tensor(30) 65\n",
      "13 tensor(55) torch.Size([64]) tensor(56) 65\n",
      "14 tensor(3) torch.Size([64]) tensor(4) 65\n",
      "15 tensor(32) torch.Size([64]) tensor(33) 65\n",
      "16 tensor(58) torch.Size([64]) tensor(59) 65\n",
      "17 tensor(63) torch.Size([64]) tensor(64) 65\n",
      "18 tensor(49) torch.Size([64]) tensor(50) 65\n",
      "19 tensor(41) torch.Size([64]) tensor(42) 65\n",
      "20 tensor(33) torch.Size([64]) tensor(34) 65\n",
      "21 tensor(38) torch.Size([64]) tensor(39) 65\n",
      "22 tensor(53) torch.Size([64]) tensor(54) 65\n",
      "23 tensor(2) torch.Size([64]) tensor(3) 65\n",
      "24 tensor(10) torch.Size([64]) tensor(11) 65\n",
      "25 tensor(45) torch.Size([64]) tensor(46) 65\n",
      "26 tensor(16) torch.Size([64]) tensor(17) 65\n",
      "27 tensor(33) torch.Size([64]) tensor(34) 65\n",
      "28 tensor(13) torch.Size([64]) tensor(14) 65\n",
      "29 tensor(37) torch.Size([64]) tensor(38) 65\n",
      "30 tensor(16) torch.Size([64]) tensor(17) 65\n",
      "31 tensor(37) torch.Size([64]) tensor(38) 65\n",
      "32 tensor(1) torch.Size([64]) tensor(2) 65\n",
      "33 tensor(62) torch.Size([64]) tensor(63) 65\n",
      "34 tensor(21) torch.Size([64]) tensor(22) 65\n",
      "35 tensor(60) torch.Size([64]) tensor(61) 65\n",
      "36 tensor(59) torch.Size([64]) tensor(60) 65\n",
      "37 tensor(36) torch.Size([64]) tensor(37) 65\n",
      "38 tensor(24) torch.Size([64]) tensor(25) 65\n",
      "39 tensor(28) torch.Size([64]) tensor(29) 65\n",
      "40 tensor(39) torch.Size([64]) tensor(40) 65\n",
      "41 tensor(16) torch.Size([64]) tensor(17) 65\n",
      "42 tensor(45) torch.Size([64]) tensor(46) 65\n",
      "43 tensor(42) torch.Size([64]) tensor(43) 65\n",
      "44 tensor(15) torch.Size([64]) tensor(16) 65\n",
      "45 tensor(24) torch.Size([64]) tensor(25) 65\n",
      "46 tensor(26) torch.Size([64]) tensor(27) 65\n",
      "47 tensor(34) torch.Size([64]) tensor(35) 65\n",
      "48 tensor(48) torch.Size([64]) tensor(49) 65\n",
      "49 tensor(53) torch.Size([64]) tensor(54) 65\n",
      "50 tensor(60) torch.Size([64]) tensor(61) 65\n",
      "51 tensor(59) torch.Size([64]) tensor(60) 65\n",
      "52 tensor(37) torch.Size([64]) tensor(38) 65\n",
      "53 tensor(44) torch.Size([64]) tensor(45) 65\n",
      "54 tensor(9) torch.Size([64]) tensor(10) 65\n",
      "55 tensor(8) torch.Size([64]) tensor(9) 65\n",
      "56 tensor(39) torch.Size([64]) tensor(40) 65\n",
      "57 tensor(46) torch.Size([64]) tensor(47) 65\n",
      "58 tensor(23) torch.Size([64]) tensor(24) 65\n",
      "59 tensor(58) torch.Size([64]) tensor(59) 65\n",
      "60 tensor(13) torch.Size([64]) tensor(14) 65\n",
      "61 tensor(5) torch.Size([64]) tensor(6) 65\n",
      "62 tensor(49) torch.Size([64]) tensor(50) 65\n",
      "63 tensor(56) torch.Size([64]) tensor(57) 65\n",
      "done, loss: tensor(8.7543, grad_fn=<NllLossBackward0>)\n"
     ]
    }
   ],
   "source": [
    "# Tune the neural network using probes\n",
    "cortex.tune(epochs=1, lr=0.1, input=input, first_layer=\"emb\")"
   ]
  }
 ],
 "metadata": {
  "kernelspec": {
   "display_name": "Python 3",
   "language": "python",
   "name": "python3"
  },
  "language_info": {
   "codemirror_mode": {
    "name": "ipython",
    "version": 3
   },
   "file_extension": ".py",
   "mimetype": "text/x-python",
   "name": "python",
   "nbconvert_exporter": "python",
   "pygments_lexer": "ipython3",
   "version": "3.8.9"
  },
  "orig_nbformat": 4
 },
 "nbformat": 4,
 "nbformat_minor": 2
}
